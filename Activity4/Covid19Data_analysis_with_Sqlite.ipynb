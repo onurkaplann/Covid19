{
 "cells": [
  {
   "cell_type": "markdown",
   "metadata": {},
   "source": [
    "## Activity-4: Data Analysis with SQLite"
   ]
  },
  {
   "cell_type": "markdown",
   "metadata": {},
   "source": [
    "#### Name/Surname: Onur Kaplan\n",
    "#### Dataset name: Covid19Data_analysis_with_Sqlite.csv"
   ]
  },
  {
   "cell_type": "code",
   "execution_count": 2,
   "metadata": {},
   "outputs": [],
   "source": [
    "import sqlite3 as sql\n",
    "import pandas as pd\n",
    "conn= sql.connect(\"BüyükVeri.db\")\n",
    "df= pd.read_csv (r'Covid19Data_analysis_with_Sqlite.csv')\n",
    "df.to_sql(\"Tablo\",conn,if_exists='replace')\n",
    "cur= conn.cursor()"
   ]
  },
  {
   "cell_type": "markdown",
   "metadata": {},
   "source": [
    "#### Problem 1: 30 countries with the most confirmed cases"
   ]
  },
  {
   "cell_type": "code",
   "execution_count": 4,
   "metadata": {},
   "outputs": [
    {
     "name": "stdout",
     "output_type": "stream",
     "text": [
      "('US', 988197, '4/27/20')\n",
      "('Spain', 229422, '4/27/20')\n",
      "('Italy', 199414, '4/27/20')\n",
      "('France', 165963, '4/27/20')\n",
      "('Germany', 158758, '4/27/20')\n",
      "('United Kingdom', 158348, '4/27/20')\n",
      "('Turkey', 112261, '4/27/20')\n",
      "('Iran', 91472, '4/27/20')\n",
      "('Russia', 87147, '4/27/20')\n",
      "('China', 83918, '4/27/20')\n",
      "('Brazil', 67446, '4/27/20')\n",
      "('Canada', 49616, '4/27/20')\n",
      "('Belgium', 46687, '4/27/20')\n",
      "('Netherlands', 38435, '4/27/20')\n",
      "('India', 29451, '4/27/20')\n",
      "('Switzerland', 29164, '4/27/20')\n",
      "('Peru', 28699, '4/27/20')\n",
      "('Portugal', 24027, '4/27/20')\n",
      "('Ecuador', 23240, '4/27/20')\n",
      "('Ireland', 19648, '4/27/20')\n",
      "('Sweden', 18926, '4/27/20')\n",
      "('Saudi Arabia', 18811, '4/27/20')\n",
      "('Israel', 15555, '4/27/20')\n",
      "('Mexico', 15529, '4/27/20')\n",
      "('Austria', 15274, '4/27/20')\n",
      "('Singapore', 14423, '4/27/20')\n",
      "('Japan', 14153, '4/27/20')\n",
      "('Pakistan', 13915, '4/27/20')\n",
      "('Chile', 13813, '4/27/20')\n",
      "('Poland', 11902, '4/27/20')\n"
     ]
    }
   ],
   "source": [
    "cur.execute(\"SELECT Ülke,Onaylananlar,Tarih FROM Tablo WHERE Tarih = \\\"4/27/20\\\" GROUP BY Ülke ORDER BY Onaylananlar DESC LIMIT 30\")\n",
    "rows= cur.fetchall()\n",
    "for row in rows:\n",
    "    print(row)"
   ]
  },
  {
   "cell_type": "markdown",
   "metadata": {},
   "source": [
    "#### Problem 2: Total number of confirmed cases"
   ]
  },
  {
   "cell_type": "code",
   "execution_count": 5,
   "metadata": {},
   "outputs": [
    {
     "name": "stdout",
     "output_type": "stream",
     "text": [
      "(3041764,)\n"
     ]
    }
   ],
   "source": [
    "cur.execute(\"SELECT SUM(Onaylananlar) FROM Tablo WHERE Tarih = \\\"4/27/20\\\"  \")\n",
    "rows= cur.fetchall()\n",
    "for row in rows:\n",
    "    print(row)"
   ]
  },
  {
   "cell_type": "markdown",
   "metadata": {},
   "source": [
    "#### Problem 3: 30 countries with the most fatalities"
   ]
  },
  {
   "cell_type": "code",
   "execution_count": 38,
   "metadata": {},
   "outputs": [
    {
     "name": "stdout",
     "output_type": "stream",
     "text": [
      "('US', 56259, '4/27/20')\n",
      "('Italy', 26977, '4/27/20')\n",
      "('Spain', 23521, '4/27/20')\n",
      "('France', 23327, '4/27/20')\n",
      "('United Kingdom', 21157, '4/27/20')\n",
      "('Belgium', 7207, '4/27/20')\n",
      "('Germany', 6126, '4/27/20')\n",
      "('Iran', 5806, '4/27/20')\n",
      "('China', 4637, '4/27/20')\n",
      "('Brazil', 4603, '4/27/20')\n",
      "('Netherlands', 4534, '4/27/20')\n",
      "('Turkey', 2900, '4/27/20')\n",
      "('Canada', 2841, '4/27/20')\n",
      "('Sweden', 2274, '4/27/20')\n",
      "('Switzerland', 1665, '4/27/20')\n",
      "('Mexico', 1434, '4/27/20')\n",
      "('Ireland', 1102, '4/27/20')\n",
      "('India', 939, '4/27/20')\n",
      "('Portugal', 928, '4/27/20')\n",
      "('Russia', 794, '4/27/20')\n",
      "('Peru', 782, '4/27/20')\n",
      "('Indonesia', 765, '4/27/20')\n",
      "('Ecuador', 663, '4/27/20')\n",
      "('Romania', 641, '4/27/20')\n",
      "('Poland', 562, '4/27/20')\n",
      "('Austria', 549, '4/27/20')\n",
      "('Philippines', 511, '4/27/20')\n",
      "('Algeria', 432, '4/27/20')\n",
      "('Denmark', 427, '4/27/20')\n",
      "('Japan', 385, '4/27/20')\n"
     ]
    }
   ],
   "source": [
    "cur.execute(\"SELECT Ülke,Ölenler,Tarih FROM Tablo WHERE Tarih = \\\"4/27/20\\\" GROUP BY Ülke ORDER BY Ölenler DESC LIMIT 30\")\n",
    "rows= cur.fetchall()\n",
    "for row in rows:\n",
    "    print(row)"
   ]
  },
  {
   "cell_type": "markdown",
   "metadata": {},
   "source": [
    "#### Problem 4: Total deaths"
   ]
  },
  {
   "cell_type": "code",
   "execution_count": 39,
   "metadata": {},
   "outputs": [
    {
     "name": "stdout",
     "output_type": "stream",
     "text": [
      "(211167,)\n"
     ]
    }
   ],
   "source": [
    "cur.execute(\"SELECT SUM(Ölenler) FROM Tablo WHERE Tarih = \\\"4/27/20\\\"  \")\n",
    "rows= cur.fetchall()\n",
    "for row in rows:\n",
    "    print(row)"
   ]
  },
  {
   "cell_type": "markdown",
   "metadata": {},
   "source": [
    "#### Problem 5: 30 countries with the most recovering patients"
   ]
  },
  {
   "cell_type": "code",
   "execution_count": 41,
   "metadata": {},
   "outputs": [
    {
     "name": "stdout",
     "output_type": "stream",
     "text": [
      "('Spain', 120832, '4/27/20')\n",
      "('Germany', 114500, '4/27/20')\n",
      "('US', 111424, '4/27/20')\n",
      "('China', 78374, '4/27/20')\n",
      "('Iran', 70933, '4/27/20')\n",
      "('Italy', 66624, '4/27/20')\n",
      "('France', 46293, '4/27/20')\n",
      "('Turkey', 33791, '4/27/20')\n",
      "('Brazil', 31142, '4/27/20')\n",
      "('Switzerland', 22200, '4/27/20')\n",
      "('Canada', 18268, '4/27/20')\n",
      "('Austria', 12362, '4/27/20')\n",
      "('Belgium', 10878, '4/27/20')\n",
      "('Ireland', 9233, '4/27/20')\n",
      "('Mexico', 9086, '4/27/20')\n",
      "('Korea South', 8854, '4/27/20')\n",
      "('Peru', 8425, '4/27/20')\n",
      "('Russia', 7346, '4/27/20')\n",
      "('Chile', 7327, '4/27/20')\n",
      "('Israel', 7200, '4/27/20')\n",
      "('India', 7137, '4/27/20')\n",
      "('Denmark', 6148, '4/27/20')\n",
      "('Australia', 5588, '4/27/20')\n",
      "('Malaysia', 3957, '4/27/20')\n",
      "('Romania', 3141, '4/27/20')\n",
      "('Luxembourg', 3123, '4/27/20')\n",
      "('Pakistan', 3029, '4/27/20')\n",
      "('Czechia', 2826, '4/27/20')\n",
      "('Thailand', 2609, '4/27/20')\n",
      "('Saudi Arabia', 2531, '4/27/20')\n"
     ]
    }
   ],
   "source": [
    "cur.execute(\"SELECT Ülke,İyileşenler,Tarih FROM Tablo WHERE Tarih = \\\"4/27/20\\\" GROUP BY Ülke ORDER BY İyileşenler DESC LIMIT 30\")\n",
    "rows= cur.fetchall()\n",
    "for row in rows:\n",
    "    print(row)"
   ]
  },
  {
   "cell_type": "markdown",
   "metadata": {},
   "source": [
    "#### Problem 6: Total healing patients"
   ]
  },
  {
   "cell_type": "code",
   "execution_count": 6,
   "metadata": {},
   "outputs": [
    {
     "name": "stdout",
     "output_type": "stream",
     "text": [
      "(893967,)\n"
     ]
    }
   ],
   "source": [
    "cur.execute(\"SELECT SUM(İyileşenler) FROM Tablo WHERE Tarih = \\\"4/27/20\\\"  \")\n",
    "rows= cur.fetchall()\n",
    "for row in rows:\n",
    "    print(row)"
   ]
  }
 ],
 "metadata": {
  "kernelspec": {
   "display_name": "Python 3",
   "language": "python",
   "name": "python3"
  },
  "language_info": {
   "codemirror_mode": {
    "name": "ipython",
    "version": 3
   },
   "file_extension": ".py",
   "mimetype": "text/x-python",
   "name": "python",
   "nbconvert_exporter": "python",
   "pygments_lexer": "ipython3",
   "version": "3.7.4"
  }
 },
 "nbformat": 4,
 "nbformat_minor": 2
}
